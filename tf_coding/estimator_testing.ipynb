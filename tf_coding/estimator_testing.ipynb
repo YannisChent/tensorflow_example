{
 "cells": [
  {
   "cell_type": "code",
   "execution_count": 1,
   "metadata": {},
   "outputs": [],
   "source": [
    "import numpy as np\n",
    "import tensorflow as tf"
   ]
  },
  {
   "cell_type": "code",
   "execution_count": 2,
   "metadata": {},
   "outputs": [
    {
     "name": "stdout",
     "output_type": "stream",
     "text": [
      "Extracting MNIST_data/train-images-idx3-ubyte.gz\n",
      "Extracting MNIST_data/train-labels-idx1-ubyte.gz\n",
      "Extracting MNIST_data/t10k-images-idx3-ubyte.gz\n",
      "Extracting MNIST_data/t10k-labels-idx1-ubyte.gz\n"
     ]
    }
   ],
   "source": [
    "from tensorflow.examples.tutorials.mnist import input_data\n",
    "mnist = input_data.read_data_sets(\"MNIST_data/\", one_hot=True)"
   ]
  },
  {
   "cell_type": "markdown",
   "metadata": {},
   "source": [
    "# Get inputs"
   ]
  },
  {
   "cell_type": "code",
   "execution_count": 3,
   "metadata": {},
   "outputs": [],
   "source": [
    "# x_train = np.array([1., 2., 3., 4.])\n",
    "# y_train = np.array([0., -1., -2., -3.])\n",
    "# x_eval = np.array([2., 5., 8., 1.])\n",
    "# y_eval = np.array([-1.01, -4.1, -7., 0.])"
   ]
  },
  {
   "cell_type": "markdown",
   "metadata": {},
   "source": [
    "#  Sess.run method"
   ]
  },
  {
   "cell_type": "code",
   "execution_count": 4,
   "metadata": {},
   "outputs": [],
   "source": [
    "# # Model parameters\n",
    "# W = tf.Variable([.3], dtype=tf.float32)\n",
    "# b = tf.Variable([-.3], dtype=tf.float32)\n",
    "\n",
    "# # Model input and output\n",
    "# x = tf.placeholder(tf.float32)\n",
    "# linear_model = W*x + b\n",
    "# y = tf.placeholder(tf.float32)\n",
    "\n",
    "# # loss\n",
    "# loss = tf.reduce_sum(tf.square(linear_model - y)) # sum of the squares\n",
    "# # optimizer\n",
    "# optimizer = tf.train.GradientDescentOptimizer(0.01)\n",
    "# train = optimizer.minimize(loss)\n",
    "\n",
    "# # training loop\n",
    "# init = tf.global_variables_initializer()\n",
    "# sess = tf.Session()\n",
    "# sess.run(init) # reset values to wrong\n",
    "# for i in range(1000):\n",
    "#     sess.run(train, {x: x_train, y: y_train})\n",
    "\n",
    "# # evaluate training accuracy\n",
    "# curr_W, curr_b, curr_loss = sess.run([W, b, loss], {x: x_eval, y: y_eval})\n",
    "# print(\"W: %s b: %s loss: %s\"%(curr_W, curr_b, curr_loss))"
   ]
  },
  {
   "cell_type": "markdown",
   "metadata": {},
   "source": [
    "# Estimator method"
   ]
  },
  {
   "cell_type": "code",
   "execution_count": 5,
   "metadata": {},
   "outputs": [],
   "source": [
    "x_train = mnist.train.images\n",
    "y_train = mnist.train.labels.astype(\"float32\")\n",
    "x_eval = mnist.test.images\n",
    "y_eval = mnist.test.labels.astype(\"float32\")"
   ]
  },
  {
   "cell_type": "code",
   "execution_count": 6,
   "metadata": {
    "scrolled": false
   },
   "outputs": [
    {
     "name": "stdout",
     "output_type": "stream",
     "text": [
      "INFO:tensorflow:Using default config.\n",
      "WARNING:tensorflow:Using temporary folder as model directory: C:\\Users\\mmnet\\AppData\\Local\\Temp\\tmprv5aepvz\n",
      "INFO:tensorflow:Using config: {'_master': '', '_cluster_spec': <tensorflow.python.training.server_lib.ClusterSpec object at 0x0000019950B7B0F0>, '_keep_checkpoint_max': 5, '_session_config': None, '_num_ps_replicas': 0, '_service': None, '_save_summary_steps': 100, '_keep_checkpoint_every_n_hours': 10000, '_model_dir': 'C:\\\\Users\\\\mmnet\\\\AppData\\\\Local\\\\Temp\\\\tmprv5aepvz', '_num_worker_replicas': 1, '_save_checkpoints_steps': None, '_task_id': 0, '_log_step_count_steps': 100, '_tf_random_seed': None, '_save_checkpoints_secs': 600, '_is_chief': True, '_task_type': 'worker'}\n",
      "INFO:tensorflow:Create CheckpointSaverHook.\n",
      "INFO:tensorflow:Saving checkpoints for 1 into C:\\Users\\mmnet\\AppData\\Local\\Temp\\tmprv5aepvz\\model.ckpt.\n",
      "INFO:tensorflow:loss = 2.30259, step = 1\n",
      "INFO:tensorflow:global_step/sec: 344.497\n",
      "INFO:tensorflow:loss = 0.531392, step = 101 (0.289 sec)\n",
      "INFO:tensorflow:global_step/sec: 512.917\n",
      "INFO:tensorflow:loss = 0.279991, step = 201 (0.195 sec)\n",
      "INFO:tensorflow:global_step/sec: 483.725\n",
      "INFO:tensorflow:loss = 0.431614, step = 301 (0.222 sec)\n",
      "INFO:tensorflow:global_step/sec: 374.968\n",
      "INFO:tensorflow:loss = 0.477022, step = 401 (0.251 sec)\n",
      "INFO:tensorflow:global_step/sec: 526.579\n",
      "INFO:tensorflow:loss = 0.377259, step = 501 (0.190 sec)\n",
      "INFO:tensorflow:global_step/sec: 488.521\n",
      "INFO:tensorflow:loss = 0.266341, step = 601 (0.208 sec)\n",
      "INFO:tensorflow:global_step/sec: 456.187\n",
      "INFO:tensorflow:loss = 0.365674, step = 701 (0.216 sec)\n",
      "INFO:tensorflow:global_step/sec: 513.285\n",
      "INFO:tensorflow:loss = 0.299279, step = 801 (0.198 sec)\n",
      "INFO:tensorflow:global_step/sec: 480.273\n",
      "INFO:tensorflow:loss = 0.282686, step = 901 (0.208 sec)\n",
      "INFO:tensorflow:Saving checkpoints for 1000 into C:\\Users\\mmnet\\AppData\\Local\\Temp\\tmprv5aepvz\\model.ckpt.\n",
      "INFO:tensorflow:Loss for final step: 0.244877.\n",
      "INFO:tensorflow:Starting evaluation at 2017-12-28-10:24:01\n",
      "INFO:tensorflow:Restoring parameters from C:\\Users\\mmnet\\AppData\\Local\\Temp\\tmprv5aepvz\\model.ckpt-1000\n",
      "INFO:tensorflow:Finished evaluation at 2017-12-28-10:24:02\n",
      "INFO:tensorflow:Saving dict for global step 1000: accuracy = 0.918691, global_step = 1000, loss = 0.292862\n",
      "INFO:tensorflow:Starting evaluation at 2017-12-28-10:24:03\n",
      "INFO:tensorflow:Restoring parameters from C:\\Users\\mmnet\\AppData\\Local\\Temp\\tmprv5aepvz\\model.ckpt-1000\n",
      "INFO:tensorflow:Finished evaluation at 2017-12-28-10:24:03\n",
      "INFO:tensorflow:Saving dict for global step 1000: accuracy = 0.9191, global_step = 1000, loss = 0.287191\n",
      "\n",
      "Train Accuracy: 0.918691\n",
      "\n",
      "\n",
      "Test Accuracy: 0.919100\n",
      "\n"
     ]
    }
   ],
   "source": [
    "# Declare list of features, we only have one real-valued feature\n",
    "def model_fn(features, labels, mode):\n",
    "    # Build a linear model and predict values\n",
    "    W = tf.Variable(tf.zeros([784, 10]))\n",
    "    b = tf.Variable(tf.zeros([10]))\n",
    "    y = tf.matmul(features['x'], W) + b\n",
    "    # Loss sub-graph\n",
    "    cross_entropy = tf.reduce_mean(\n",
    "      tf.nn.softmax_cross_entropy_with_logits(labels=labels, logits=y))\n",
    "    # Training sub-graph\n",
    "    global_step = tf.train.get_global_step()\n",
    "    optimizer = tf.train.GradientDescentOptimizer(0.5)\n",
    "    train = tf.group(optimizer.minimize(cross_entropy),\n",
    "                   tf.assign_add(global_step, 1))\n",
    "    # EstimatorSpec connects subgraphs we built to the\n",
    "    # appropriate functionality.\n",
    "    eval_metric_ops = {\n",
    "      \"accuracy\": tf.metrics.accuracy(tf.argmax(labels,1), tf.argmax(y,1))\n",
    "    }\n",
    "    return tf.estimator.EstimatorSpec(\n",
    "      mode=mode,\n",
    "      predictions=y,\n",
    "      loss=cross_entropy,\n",
    "      train_op=train,\n",
    "      eval_metric_ops=eval_metric_ops)\n",
    "\n",
    "estimator = tf.estimator.Estimator(model_fn=model_fn)\n",
    "# define our data sets\n",
    "input_fn = tf.estimator.inputs.numpy_input_fn(\n",
    "    {\"x\": x_train}, y_train, batch_size=128, num_epochs=None, shuffle=True)\n",
    "train_input_fn = tf.estimator.inputs.numpy_input_fn(\n",
    "    {\"x\": x_train}, y_train, batch_size=128, num_epochs=1, shuffle=False)\n",
    "eval_input_fn = tf.estimator.inputs.numpy_input_fn(\n",
    "    {\"x\": x_eval}, y_eval, batch_size=128, num_epochs=1, shuffle=False)\n",
    "\n",
    "# train\n",
    "estimator.train(input_fn=input_fn, steps=1000)\n",
    "# Here we evaluate how well our model did.\n",
    "train_metrics = estimator.evaluate(input_fn=train_input_fn)[\"accuracy\"]\n",
    "eval_metrics = estimator.evaluate(input_fn=eval_input_fn)[\"accuracy\"]\n",
    "print(\"\\nTrain Accuracy: {0:f}\\n\".format(train_metrics))\n",
    "print(\"\\nTest Accuracy: {0:f}\\n\".format(eval_metrics))"
   ]
  },
  {
   "cell_type": "code",
   "execution_count": 7,
   "metadata": {},
   "outputs": [
    {
     "name": "stdout",
     "output_type": "stream",
     "text": [
      "Extracting /tmp/tensorflow/mnist/input_data\\train-images-idx3-ubyte.gz\n",
      "Extracting /tmp/tensorflow/mnist/input_data\\train-labels-idx1-ubyte.gz\n",
      "Extracting /tmp/tensorflow/mnist/input_data\\t10k-images-idx3-ubyte.gz\n",
      "Extracting /tmp/tensorflow/mnist/input_data\\t10k-labels-idx1-ubyte.gz\n",
      "res 0.9137\n"
     ]
    },
    {
     "ename": "SystemExit",
     "evalue": "",
     "output_type": "error",
     "traceback": [
      "An exception has occurred, use %tb to see the full traceback.\n",
      "\u001b[1;31mSystemExit\u001b[0m\n"
     ]
    },
    {
     "name": "stderr",
     "output_type": "stream",
     "text": [
      "c:\\users\\mmnet\\appdata\\local\\programs\\python\\python35\\lib\\site-packages\\IPython\\core\\interactiveshell.py:2918: UserWarning: To exit: use 'exit', 'quit', or Ctrl-D.\n",
      "  warn(\"To exit: use 'exit', 'quit', or Ctrl-D.\", stacklevel=1)\n"
     ]
    }
   ],
   "source": [
    "# Copyright 2015 The TensorFlow Authors. All Rights Reserved.\n",
    "#\n",
    "# Licensed under the Apache License, Version 2.0 (the \"License\");\n",
    "# you may not use this file except in compliance with the License.\n",
    "# You may obtain a copy of the License at\n",
    "#\n",
    "#     http://www.apache.org/licenses/LICENSE-2.0\n",
    "#\n",
    "# Unless required by applicable law or agreed to in writing, software\n",
    "# distributed under the License is distributed on an \"AS IS\" BASIS,\n",
    "# WITHOUT WARRANTIES OR CONDITIONS OF ANY KIND, either express or implied.\n",
    "# See the License for the specific language governing permissions and\n",
    "# limitations under the License.\n",
    "# ==============================================================================\n",
    "\n",
    "\"\"\"A very simple MNIST classifier.\n",
    "See extensive documentation at\n",
    "https://www.tensorflow.org/get_started/mnist/beginners\n",
    "\"\"\"\n",
    "from __future__ import absolute_import\n",
    "from __future__ import division\n",
    "from __future__ import print_function\n",
    "\n",
    "import argparse\n",
    "import sys\n",
    "\n",
    "from tensorflow.examples.tutorials.mnist import input_data\n",
    "\n",
    "import tensorflow as tf\n",
    "\n",
    "FLAGS = None\n",
    "\n",
    "\n",
    "def main(_):\n",
    "  # Import data\n",
    "  mnist = input_data.read_data_sets(FLAGS.data_dir, one_hot=True)\n",
    "\n",
    "  # Create the model\n",
    "  x = tf.placeholder(tf.float32, [None, 784])\n",
    "  W = tf.Variable(tf.zeros([784, 10]))\n",
    "  b = tf.Variable(tf.zeros([10]))\n",
    "  y = tf.matmul(x, W) + b\n",
    "\n",
    "  # Define loss and optimizer\n",
    "  y_ = tf.placeholder(tf.float32, [None, 10])\n",
    "\n",
    "  # The raw formulation of cross-entropy,\n",
    "  #\n",
    "  #   tf.reduce_mean(-tf.reduce_sum(y_ * tf.log(tf.nn.softmax(y)),\n",
    "  #                                 reduction_indices=[1]))\n",
    "  #\n",
    "  # can be numerically unstable.\n",
    "  #\n",
    "  # So here we use tf.nn.softmax_cross_entropy_with_logits on the raw\n",
    "  # outputs of 'y', and then average across the batch.\n",
    "  cross_entropy = tf.reduce_mean(\n",
    "      tf.nn.softmax_cross_entropy_with_logits(labels=y_, logits=y))\n",
    "  train_step = tf.train.GradientDescentOptimizer(0.5).minimize(cross_entropy)\n",
    "\n",
    "  sess = tf.InteractiveSession()\n",
    "  tf.global_variables_initializer().run()\n",
    "  # Train\n",
    "  for _ in range(1000):\n",
    "    batch_xs, batch_ys = mnist.train.next_batch(100)\n",
    "    sess.run(train_step, feed_dict={x: batch_xs, y_: batch_ys})\n",
    "\n",
    "  # Test trained model\n",
    "  correct_prediction = tf.equal(tf.argmax(y, 1), tf.argmax(y_, 1))\n",
    "  accuracy = tf.reduce_mean(tf.cast(correct_prediction, tf.float32))\n",
    "  print(\"res\",sess.run(accuracy, feed_dict={x: mnist.test.images,\n",
    "                                      y_: mnist.test.labels}))\n",
    "  print(\"loss\",sess.run(cross_entropy, feed_dict={x: mnist.test.images,\n",
    "                                      y_: mnist.test.labels}))\n",
    "\n",
    "if __name__ == '__main__':\n",
    "  parser = argparse.ArgumentParser()\n",
    "  parser.add_argument('--data_dir', type=str, default='/tmp/tensorflow/mnist/input_data',\n",
    "                      help='Directory for storing input data')\n",
    "  FLAGS, unparsed = parser.parse_known_args()\n",
    "  tf.app.run(main=main, argv=[sys.argv[0]] + unparsed)"
   ]
  },
  {
   "cell_type": "code",
   "execution_count": null,
   "metadata": {},
   "outputs": [],
   "source": []
  }
 ],
 "metadata": {
  "kernelspec": {
   "display_name": "Python 3",
   "language": "python",
   "name": "python3"
  },
  "language_info": {
   "codemirror_mode": {
    "name": "ipython",
    "version": 3
   },
   "file_extension": ".py",
   "mimetype": "text/x-python",
   "name": "python",
   "nbconvert_exporter": "python",
   "pygments_lexer": "ipython3",
   "version": "3.5.3"
  }
 },
 "nbformat": 4,
 "nbformat_minor": 2
}
